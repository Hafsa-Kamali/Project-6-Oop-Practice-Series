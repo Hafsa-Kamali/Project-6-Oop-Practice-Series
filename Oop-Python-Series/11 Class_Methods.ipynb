{
  "nbformat": 4,
  "nbformat_minor": 0,
  "metadata": {
    "colab": {
      "provenance": []
    },
    "kernelspec": {
      "name": "python3",
      "display_name": "Python 3"
    },
    "language_info": {
      "name": "python"
    }
  },
  "cells": [
    {
      "cell_type": "markdown",
      "source": [
        "#**Class Methods**\n",
        "**Assignment:**\n",
        "\n",
        "Create a class Book with a class variable total_books. Add a class method increment_book_count() to increase the count when a new book is added\n",
        "\n"
      ],
      "metadata": {
        "id": "wxcjIHKWaCRW"
      }
    },
    {
      "cell_type": "code",
      "execution_count": 12,
      "metadata": {
        "colab": {
          "base_uri": "https://localhost:8080/"
        },
        "id": "VeMgxOEzTjwJ",
        "outputId": "c5f35007-e332-4ce0-e5c4-d68ba5ba1cdf"
      },
      "outputs": [
        {
          "output_type": "stream",
          "name": "stdout",
          "text": [
            "Total books: 2\n"
          ]
        }
      ],
      "source": [
        "class Book:\n",
        "    total_books = 0\n",
        "\n",
        "    def __init__(self):\n",
        "        Book.total_books += 1\n",
        "\n",
        "    @classmethod\n",
        "    def increment_book_count(cls):\n",
        "        print(f\"Total books: {cls.total_books}\")\n",
        "\n",
        "# Example usage\n",
        "b1 = Book()\n",
        "b2 = Book()\n",
        "Book.increment_book_count()\n"
      ]
    }
  ]
}