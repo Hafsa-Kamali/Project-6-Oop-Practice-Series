{
  "nbformat": 4,
  "nbformat_minor": 0,
  "metadata": {
    "colab": {
      "provenance": []
    },
    "kernelspec": {
      "name": "python3",
      "display_name": "Python 3"
    },
    "language_info": {
      "name": "python"
    }
  },
  "cells": [
    {
      "cell_type": "markdown",
      "source": [
        "#**Constructors and Destructors**\n",
        "**Assignment:**\n",
        "\n",
        "Create a class Logger that prints a message when an object is created (constructor) and another message when it is destroyed (destructor).\n"
      ],
      "metadata": {
        "id": "wxcjIHKWaCRW"
      }
    },
    {
      "cell_type": "code",
      "execution_count": 6,
      "metadata": {
        "colab": {
          "base_uri": "https://localhost:8080/"
        },
        "id": "VeMgxOEzTjwJ",
        "outputId": "41051485-742f-4be4-9484-661ba44f32a4"
      },
      "outputs": [
        {
          "output_type": "stream",
          "name": "stdout",
          "text": [
            "Object Created\n",
            "Object Destroyed\n"
          ]
        }
      ],
      "source": [
        "class Logger:\n",
        "    def __init__(self):\n",
        "        print(\"Object Created\")\n",
        "\n",
        "    def __del__(self):\n",
        "        print(\"Object Destroyed\")\n",
        "\n",
        "# Example usage\n",
        "logger = Logger()\n",
        "del logger\n"
      ]
    }
  ]
}