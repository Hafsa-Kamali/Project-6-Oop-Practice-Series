{
  "nbformat": 4,
  "nbformat_minor": 0,
  "metadata": {
    "colab": {
      "provenance": []
    },
    "kernelspec": {
      "name": "python3",
      "display_name": "Python 3"
    },
    "language_info": {
      "name": "python"
    }
  },
  "cells": [
    {
      "cell_type": "markdown",
      "source": [
        "#**Make a Custom Class Iterable**\n",
        "**Assignment:**\n",
        "\n",
        "Create a class Countdown that takes a start number. Implement __iter__() and __next__() to make the object iterable in a for-loop, counting down to 0."
      ],
      "metadata": {
        "id": "wxcjIHKWaCRW"
      }
    },
    {
      "cell_type": "code",
      "execution_count": 23,
      "metadata": {
        "colab": {
          "base_uri": "https://localhost:8080/"
        },
        "id": "VeMgxOEzTjwJ",
        "outputId": "ba639b24-6725-406b-9628-38cdfa5b54ae"
      },
      "outputs": [
        {
          "output_type": "stream",
          "name": "stdout",
          "text": [
            "5\n",
            "4\n",
            "3\n",
            "2\n",
            "1\n",
            "0\n"
          ]
        }
      ],
      "source": [
        "class Countdown:\n",
        "    def __init__(self, start):\n",
        "        self.start = start\n",
        "\n",
        "    def __iter__(self):\n",
        "        return self\n",
        "\n",
        "    def __next__(self):\n",
        "        if self.start < 0:\n",
        "            raise StopIteration\n",
        "        current = self.start\n",
        "        self.start -= 1\n",
        "        return current\n",
        "\n",
        "# Example usage\n",
        "c = Countdown(5)\n",
        "for number in c:\n",
        "    print(number)\n"
      ]
    }
  ]
}