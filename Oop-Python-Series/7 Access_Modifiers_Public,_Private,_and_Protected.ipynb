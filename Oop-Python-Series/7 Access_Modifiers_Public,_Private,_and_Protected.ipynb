{
  "nbformat": 4,
  "nbformat_minor": 0,
  "metadata": {
    "colab": {
      "provenance": []
    },
    "kernelspec": {
      "name": "python3",
      "display_name": "Python 3"
    },
    "language_info": {
      "name": "python"
    }
  },
  "cells": [
    {
      "cell_type": "markdown",
      "source": [
        "#**Access Modifiers: Public, Private, and Protected**\n",
        "**Assignment:**\n",
        "\n",
        "Create a class Employee with:\n",
        "\n",
        "    a public variable name,\n",
        "\n",
        "    a protected variable _salary, and\n",
        "\n",
        "    a private variable __ssn.\n",
        "\n",
        "Try accessing all three variables from an object of the class and document what happens.\n"
      ],
      "metadata": {
        "id": "wxcjIHKWaCRW"
      }
    },
    {
      "cell_type": "code",
      "execution_count": 7,
      "metadata": {
        "colab": {
          "base_uri": "https://localhost:8080/"
        },
        "id": "VeMgxOEzTjwJ",
        "outputId": "cfeaa971-1e74-4f11-8e54-07aedda95ac7"
      },
      "outputs": [
        {
          "output_type": "stream",
          "name": "stdout",
          "text": [
            "Sara\n",
            "50000\n",
            "123-45-6789\n"
          ]
        }
      ],
      "source": [
        "class Employee:\n",
        "    def __init__(self, name, salary, ssn):\n",
        "        self.name = name\n",
        "        self._salary = salary\n",
        "        self.__ssn = ssn\n",
        "\n",
        "# Example usage\n",
        "e = Employee(\"Sara\", 50000, \"123-45-6789\")\n",
        "print(e.name)        # Public - accessible\n",
        "\n",
        "print(e._salary)     # Protected - accessible but not recommended\n",
        "\n",
        "# print(e.__ssn)     # Private - not directly accessible (error)\n",
        "\n",
        "print(e._Employee__ssn)  # Access private using name mangling\n"
      ]
    }
  ]
}