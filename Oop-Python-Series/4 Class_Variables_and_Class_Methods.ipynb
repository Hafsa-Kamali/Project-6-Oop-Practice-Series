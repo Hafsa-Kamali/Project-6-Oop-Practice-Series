{
  "nbformat": 4,
  "nbformat_minor": 0,
  "metadata": {
    "colab": {
      "provenance": []
    },
    "kernelspec": {
      "name": "python3",
      "display_name": "Python 3"
    },
    "language_info": {
      "name": "python"
    }
  },
  "cells": [
    {
      "cell_type": "markdown",
      "source": [
        "#**Class Variables and Class Methods**\n",
        "**Assignment:**\n",
        "\n",
        "Create a class Bank with a class variable bank_name. Add a class method change_bank_name(cls, name) that allows changing the bank name. Show that it affects all instances."
      ],
      "metadata": {
        "id": "wxcjIHKWaCRW"
      }
    },
    {
      "cell_type": "code",
      "execution_count": 4,
      "metadata": {
        "colab": {
          "base_uri": "https://localhost:8080/"
        },
        "id": "VeMgxOEzTjwJ",
        "outputId": "a7904176-98b7-4068-a00d-d9c6e53f4d2b"
      },
      "outputs": [
        {
          "output_type": "stream",
          "name": "stdout",
          "text": [
            "National Bank\n",
            "Habib Bank\n"
          ]
        }
      ],
      "source": [
        "class Bank:\n",
        "    bank_name = \"National Bank\"\n",
        "\n",
        "    @classmethod\n",
        "    def change_bank_name(cls, name):\n",
        "        cls.bank_name = name\n",
        "\n",
        "# Example usage\n",
        "b1 = Bank()\n",
        "b2 = Bank()\n",
        "print(b1.bank_name)\n",
        "Bank.change_bank_name(\"Habib Bank\")\n",
        "print(b2.bank_name)\n"
      ]
    }
  ]
}