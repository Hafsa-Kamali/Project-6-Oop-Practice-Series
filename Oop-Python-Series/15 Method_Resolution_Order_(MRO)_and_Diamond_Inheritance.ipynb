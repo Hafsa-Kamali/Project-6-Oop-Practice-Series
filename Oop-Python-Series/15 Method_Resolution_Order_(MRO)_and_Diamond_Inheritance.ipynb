{
  "nbformat": 4,
  "nbformat_minor": 0,
  "metadata": {
    "colab": {
      "provenance": []
    },
    "kernelspec": {
      "name": "python3",
      "display_name": "Python 3"
    },
    "language_info": {
      "name": "python"
    }
  },
  "cells": [
    {
      "cell_type": "markdown",
      "source": [
        "#**Method Resolution Order (MRO) and Diamond Inheritance**\n",
        "**Assignment:**\n",
        "\n",
        "Create four classes:\n",
        "\n",
        "    A with a method show(),\n",
        "\n",
        "    B and C that inherit from A and override show(),\n",
        "\n",
        "    D that inherits from both B and C.\n",
        "\n",
        "Create an object of D and call show() to observe MRO."
      ],
      "metadata": {
        "id": "wxcjIHKWaCRW"
      }
    },
    {
      "cell_type": "code",
      "execution_count": 17,
      "metadata": {
        "colab": {
          "base_uri": "https://localhost:8080/"
        },
        "id": "VeMgxOEzTjwJ",
        "outputId": "c5e186c1-3c0e-4b3c-e023-c3979ecf1174"
      },
      "outputs": [
        {
          "output_type": "stream",
          "name": "stdout",
          "text": [
            "B class\n"
          ]
        }
      ],
      "source": [
        "class A:\n",
        "    def show(self):\n",
        "        print(\"A class\")\n",
        "\n",
        "class B(A):\n",
        "    def show(self):\n",
        "        print(\"B class\")\n",
        "\n",
        "class C(A):\n",
        "    def show(self):\n",
        "        print(\"C class\")\n",
        "\n",
        "class D(B, C):\n",
        "    pass\n",
        "\n",
        "# Example usage\n",
        "d = D()\n",
        "d.show()  # B class will be called (MRO: D -> B -> C -> A)\n"
      ]
    }
  ]
}